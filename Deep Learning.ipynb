{
 "cells": [
  {
   "cell_type": "markdown",
   "metadata": {},
   "source": [
    "  ## Follow example of Machinelearningmastery.com\n",
    "    \n",
    "Here i follow step by step the implementation of deep learning w/ Keras for sentymen analysis to better understand the tools.\n",
    "\n",
    "Small modifications will be needed in order to implement it to Cajamar problem.\n",
    "\n",
    "Sources: http://machinelearningmastery.com/predict-sentiment-movie-reviews-using-deep-learning/"
   ]
  },
  {
   "cell_type": "markdown",
   "metadata": {},
   "source": [
    "Problem desc: The Large Movie Review Dataset (often referred to as the IMDB dataset) contains 25,000 highly polar moving reviews (good or bad) for training and the same amount again for testing. The problem is to determine whether a given moving review has a positive or negative sentiment."
   ]
  },
  {
   "cell_type": "markdown",
   "metadata": {},
   "source": [
    "**Description of the data set:** The keras.datasets.imdb.load_data() allows you to load the dataset in a format that is ready for use in neural network and deep learning models.\n",
    "\n",
    "The words have been replaced by integers that indicate the absolute popularity of the word in the dataset. The sentences in each review are therefore comprised of a sequence of integers.\n",
    "\n",
    "That is, every word has associated a unique integer. 1=most popular word, 9999..= least popular word. Or al reves."
   ]
  },
  {
   "cell_type": "code",
   "execution_count": 72,
   "metadata": {
    "collapsed": false
   },
   "outputs": [],
   "source": [
    "import numpy as np\n",
    "from keras import preprocessing\n",
    "from keras.datasets import imdb\n",
    "from matplotlib import pyplot"
   ]
  },
  {
   "cell_type": "code",
   "execution_count": null,
   "metadata": {
    "collapsed": true
   },
   "outputs": [],
   "source": [
    "#Load the Data Set\n",
    "(X_train, y_train), (X_test, y_test)= imdb.load_data()"
   ]
  },
  {
   "cell_type": "code",
   "execution_count": 17,
   "metadata": {
    "collapsed": false,
    "scrolled": true
   },
   "outputs": [
    {
     "name": "stdout",
     "output_type": "stream",
     "text": [
      "(25000,)\n",
      "<type 'list'>\n",
      "218\n",
      "189\n",
      "141\n",
      "550\n",
      "147\n"
     ]
    }
   ],
   "source": [
    "print X_train.shape\n",
    "print type(X_train[0])\n",
    "for i in range(5):\n",
    "    print len(X_train[i])\n"
   ]
  },
  {
   "cell_type": "markdown",
   "metadata": {},
   "source": [
    "Vemos que es un array multidemiensional con 25K entradas (cada entrada es una review). Cada entrada es una lista de longitud variable, lista de palabras representadas por su correspondiente int."
   ]
  },
  {
   "cell_type": "code",
   "execution_count": 30,
   "metadata": {
    "collapsed": false
   },
   "outputs": [
    {
     "name": "stdout",
     "output_type": "stream",
     "text": [
      "(25000,)\n",
      "<type 'numpy.ndarray'>\n",
      "<type 'numpy.int64'>\n",
      "1\n",
      "0\n",
      "0\n",
      "1\n",
      "0\n"
     ]
    }
   ],
   "source": [
    "print y_train.shape\n",
    "print type(y)\n",
    "print type(y[0])\n",
    "\n",
    "for i in range(5):\n",
    "    print y[i]"
   ]
  },
  {
   "cell_type": "markdown",
   "metadata": {},
   "source": [
    "Vemos que las y son las labels. Tenemos 25K labels del train, una para cada review. En cada entrada tenemos un numero binario, indica si la review es positiva o negativa"
   ]
  },
  {
   "cell_type": "code",
   "execution_count": 21,
   "metadata": {
    "collapsed": false
   },
   "outputs": [],
   "source": [
    "\n",
    "X=np.concatenate((X_train, X_test), axis=0)\n",
    "y=np.concatenate((y_train, y_test), axis=0)"
   ]
  },
  {
   "cell_type": "code",
   "execution_count": 22,
   "metadata": {
    "collapsed": false
   },
   "outputs": [
    {
     "name": "stdout",
     "output_type": "stream",
     "text": [
      "(50000,)\n",
      "(50000,)\n"
     ]
    }
   ],
   "source": [
    "#our data\n",
    "print X.shape\n",
    "print y.shape"
   ]
  },
  {
   "cell_type": "code",
   "execution_count": 31,
   "metadata": {
    "collapsed": false,
    "scrolled": true
   },
   "outputs": [
    {
     "name": "stdout",
     "output_type": "stream",
     "text": [
      "Classes: \n",
      "[0 1]\n"
     ]
    },
    {
     "data": {
      "text/plain": [
       "numpy.ndarray"
      ]
     },
     "execution_count": 31,
     "metadata": {},
     "output_type": "execute_result"
    }
   ],
   "source": [
    "#Summarize number of classes.\n",
    "print 'Classes: '\n",
    "print np.unique(y)\n",
    "type(np.unique(y))"
   ]
  },
  {
   "cell_type": "markdown",
   "metadata": {},
   "source": [
    "We see that y is a binary array with only two types of entries. 1 or 0. One indicating positive review, the other indicating negative."
   ]
  },
  {
   "cell_type": "code",
   "execution_count": 41,
   "metadata": {
    "collapsed": false
   },
   "outputs": [
    {
     "name": "stdout",
     "output_type": "stream",
     "text": [
      "Number of words:  88585\n"
     ]
    }
   ],
   "source": [
    "#Summarize number of words. \n",
    "#Get an idea of how many diferent words are on the data set\n",
    "\n",
    "print 'Number of words: ' , len(np.unique(np.hstack(X))) #hstack stacks (unstacks) horizontally"
   ]
  },
  {
   "cell_type": "code",
   "execution_count": 35,
   "metadata": {
    "collapsed": false
   },
   "outputs": [
    {
     "name": "stdout",
     "output_type": "stream",
     "text": [
      "(50000,)\n",
      "(11737946,)\n",
      "<type 'list'>\n",
      "<type 'numpy.ndarray'>\n"
     ]
    }
   ],
   "source": [
    "L=np.hstack(X)\n",
    "print X.shape\n",
    "print L.shape\n",
    "print type(X[0])\n",
    "print type(L)"
   ]
  },
  {
   "cell_type": "code",
   "execution_count": 46,
   "metadata": {
    "collapsed": false
   },
   "outputs": [
    {
     "name": "stdout",
     "output_type": "stream",
     "text": [
      "Review lenght: \n",
      "234.75892\n"
     ]
    }
   ],
   "source": [
    "#Get an idea of the average review length\n",
    "print 'Review lenght: '\n",
    "print len(np.hstack(X))/float(len(X))"
   ]
  },
  {
   "cell_type": "code",
   "execution_count": 57,
   "metadata": {
    "collapsed": true
   },
   "outputs": [
    {
     "name": "stdout",
     "output_type": "stream",
     "text": [
      "Review lenght:\n",
      "Mean:  234.75892  words,  std:  172.911494587\n"
     ]
    },
    {
     "data": {
      "image/png": "[encoded data removed]",
      "text/plain": [
       "<matplotlib.figure.Figure at 0x12358abd0>"
      ]
     },
     "metadata": {},
     "output_type": "display_data"
    }
   ],
   "source": [
    "#Summarize review lenght. HIS CODE:\n",
    "\n",
    "print 'Review lenght:'\n",
    "result= map(len, X) #Returns a list of the results aplying len to the arguments of the sequence\n",
    "print 'Mean: ', np.mean(result), ' words,  std: ', np.std(result)\n",
    "pyplot.boxplot(result)\n",
    "pyplot.show()"
   ]
  },
  {
   "cell_type": "markdown",
   "metadata": {},
   "source": [
    "We have seen that the median is 234 words per reviews with a std of 170 words. Looking at the box plot it is clear that we can get most of the reviews whole with a clipped lenght of 400-500 words"
   ]
  },
  {
   "cell_type": "markdown",
   "metadata": {},
   "source": [
    "<font color='purple'> Note: Box and whisker plots. What are they. </font>\n",
    "\n",
    "From docstring: Make a box and whisker plot for each column of ``x`` or each vector in sequence ``x``.  The box extends from the lower to\n",
    "upper quartile values of the data, with a line at the median.\n",
    "The whiskers extend from the box to show the range of the\n",
    "data.  Flier points are those past the end of the whiskers.\n",
    "\n",
    "**From WIKI:**\n",
    "\n",
    "Box and whisker plots are uniform in their use of the box: **the bottom and top of the box are always the first and third quartiles, and the band inside the box is always the second quartile (the median).** But the ends of the whiskers can represent several possible alternative values, among them:\n",
    "\n",
    "- the minimum and maximum of all of the data[1] (as in figure 2)\n",
    "\n",
    "- the lowest datum still within 1.5 IQR of the lower quartile, and the highest datum still within 1.5 IQR of the upper quartile (often called the Tukey boxplot)[2][3] (as in figure 3)\n",
    "\n",
    "- one standard deviation above and below the mean of the data\n",
    "\n",
    "- the 9th percentile and the 91st percentile\n",
    "- the 2nd percentile and the 98th percentile.\n",
    "\n",
    "Any data not included between the whiskers should be plotted as an outlier with a dot, small circle, or star, but occasionally this is not done.\n",
    " <font color='red'> So if i get this correctly 50% of the data is inside the box, the whiskers extend to default = 1.5, 3QR+ 1.5*IQR no idea what this is </font> "
   ]
  },
  {
   "cell_type": "markdown",
   "metadata": {},
   "source": [
    "**Word embeddings**\n",
    "Techniche for natural language processing where words are assigned a positive integer, and a vector in a N dimensional vector space. The embedding layer works its magic and similarty between words is represented as closedness in the vector space, metric is probably the euclidian, (necessarly?)"
   ]
  },
  {
   "cell_type": "markdown",
   "metadata": {},
   "source": [
    "Our problem:\n",
    "\n",
    "**Embedding layer.**\n",
    "Maps every word (integer) to a N-dimensional vector space.\n",
    "\n",
    "We will only be interested in the first 5,000 most common words (vocabulary size). The output dimension will be 32, we will use a 32 dimension vector to represent each word. We cap the lenght of the review at 500 words."
   ]
  },
  {
   "cell_type": "markdown",
   "metadata": {},
   "source": [
    "We will start by developing a multi-layer perceptron model with a single hidden layer"
   ]
  },
  {
   "cell_type": "code",
   "execution_count": 81,
   "metadata": {
    "collapsed": true
   },
   "outputs": [],
   "source": [
    "#MLP for the IMBD problem\n",
    "from keras.models import Sequential\n",
    "from keras.layers import Dense, Flatten\n",
    "from keras.layers.embeddings import Embedding\n",
    "from keras.preprocessing import sequence\n",
    "#fix random seed for ?? reproducibility\n",
    "seed = 7\n",
    "np.random.seed(seed)"
   ]
  },
  {
   "cell_type": "code",
   "execution_count": 99,
   "metadata": {
    "collapsed": false
   },
   "outputs": [],
   "source": [
    "#Load dataset with only 5K most common words\n",
    "topwords=5000\n",
    "(X_train, y_train), (X_test, y_test) = imdb.load_data(nb_words=topwords) "
   ]
  },
  {
   "cell_type": "markdown",
   "metadata": {},
   "source": [
    "We shall fix review lenght at 500, truncating longer ones and and 0-padding shorter ones."
   ]
  },
  {
   "cell_type": "code",
   "execution_count": 100,
   "metadata": {
    "collapsed": true
   },
   "outputs": [],
   "source": [
    "#Cut the sequences into maximum fixed lenght of 500\n",
    "max_words=500\n",
    "X_train= sequence.pad_sequences(X_train, maxlen=max_words)#Afegeix 0 al principi o trunca fins a arribar a 500\n",
    "X_test = sequence.pad_sequences(X_test, maxlen=max_words)"
   ]
  },
  {
   "cell_type": "code",
   "execution_count": 87,
   "metadata": {
    "collapsed": false
   },
   "outputs": [],
   "source": []
  },
  {
   "cell_type": "markdown",
   "metadata": {},
   "source": [
    "Now we can create our model. We will use an Embedding layer as the input layer, setting the vocabulary to 5,000, the word vector size to 32 dimensions and the input_length to 500. The output of this first layer will be a 32×500 sized matrix as discussed in the previous section.\n",
    "\n",
    "We will flatten the Embedded layers output to one dimension, then use one dense hidden layer of 250 units with a rectifier activation function. The output layer has one neuron and will use a sigmoid activation to output values of 0 and 1 as predictions.\n",
    "\n",
    "The model uses logarithmic loss and is optimized using the efficient ADAM optimization procedure.\n",
    "\n",
    "<font color = red> Lmao what </font>"
   ]
  },
  {
   "cell_type": "code",
   "execution_count": 102,
   "metadata": {
    "collapsed": false
   },
   "outputs": [
    {
     "name": "stdout",
     "output_type": "stream",
     "text": [
      "____________________________________________________________________________________________________\n",
      "Layer (type)                     Output Shape          Param #     Connected to                     \n",
      "====================================================================================================\n",
      "embedding_1 (Embedding)          (None, 500, 32)       160000      embedding_input_1[0][0]          \n",
      "____________________________________________________________________________________________________\n",
      "flatten_1 (Flatten)              (None, 16000)         0           embedding_1[0][0]                \n",
      "____________________________________________________________________________________________________\n",
      "dense_1 (Dense)                  (None, 250)           4000250     flatten_1[0][0]                  \n",
      "____________________________________________________________________________________________________\n",
      "dense_2 (Dense)                  (None, 1)             251         dense_1[0][0]                    \n",
      "====================================================================================================\n",
      "Total params: 4,160,501\n",
      "Trainable params: 4,160,501\n",
      "Non-trainable params: 0\n",
      "____________________________________________________________________________________________________\n",
      "None\n"
     ]
    }
   ],
   "source": [
    "#Create model.\n",
    "model= Sequential()\n",
    "model.add(Embedding(topwords, 32, input_length=max_words))\n",
    "model.add(Flatten())\n",
    "model.add(Dense(250, activation='relu'))\n",
    "model.add(Dense(1, activation='sigmoid'))\n",
    "model.compile(loss='binary_crossentropy', optimizer='adam', metrics=['accuracy'])\n",
    "print(model.summary())"
   ]
  },
  {
   "cell_type": "markdown",
   "metadata": {},
   "source": [
    "We fit the model and use the test as validation while training. This model overfits quickly, (why?) we will only use 2 training epochs. Batch size of 128 since there is a lot of data. We avaluate accuracy on the test dataset.\n",
    "\n",
    "**Epoch:** number of iterations that the training process goes trough the dataset.\n",
    "\n",
    "**Batch size:** Number of instances that are evaluated before a weight update in the network is performed. <font color=red> Still not getting it </font>"
   ]
  },
  {
   "cell_type": "code",
   "execution_count": 108,
   "metadata": {
    "collapsed": false
   },
   "outputs": [
    {
     "name": "stdout",
     "output_type": "stream",
     "text": [
      "Train on 25000 samples, validate on 25000 samples\n",
      "Epoch 1/2\n",
      "25000/25000 [==============================] - 32s - loss: 0.0734 - acc: 0.9786 - val_loss: 0.3771 - val_acc: 0.8667\n",
      "Epoch 2/2\n",
      "25000/25000 [==============================] - 30s - loss: 0.0142 - acc: 0.9980 - val_loss: 0.4652 - val_acc: 0.8672\n",
      "Accuracy: 0.87%\n"
     ]
    }
   ],
   "source": [
    "#Fit the model\n",
    "model.fit(X_train, y_train, validation_data=(X_test, y_test), nb_epoch=2, batch_size=128, verbose=1)\n",
    "#Final evaluation ?? but we trained with the test. What the hell\n",
    "scores= model.evaluate(X_test, y_test, verbose=0)\n",
    "print 'Accuracy: %.2f% %' % scores[1]"
   ]
  },
  {
   "cell_type": "code",
   "execution_count": 107,
   "metadata": {
    "collapsed": false
   },
   "outputs": [
    {
     "name": "stdout",
     "output_type": "stream",
     "text": [
      "Accuracy:  87.412 %\n"
     ]
    }
   ],
   "source": [
    "print 'Accuracy: ', scores[1]*100, '%'"
   ]
  },
  {
   "cell_type": "code",
   "execution_count": null,
   "metadata": {
    "collapsed": true
   },
   "outputs": [],
   "source": []
  },
  {
   "cell_type": "code",
   "execution_count": null,
   "metadata": {
    "collapsed": true
   },
   "outputs": [],
   "source": []
  },
  {
   "cell_type": "code",
   "execution_count": null,
   "metadata": {
    "collapsed": true
   },
   "outputs": [],
   "source": []
  }
 ],
 "metadata": {
  "anaconda-cloud": {},
  "kernelspec": {
   "display_name": "Python [conda root]",
   "language": "python",
   "name": "conda-root-py"
  },
  "language_info": {
   "codemirror_mode": {
    "name": "ipython",
    "version": 2
   },
   "file_extension": ".py",
   "mimetype": "text/x-python",
   "name": "python",
   "nbconvert_exporter": "python",
   "pygments_lexer": "ipython2",
   "version": "2.7.12"
  }
 },
 "nbformat": 4,
 "nbformat_minor": 1
}
